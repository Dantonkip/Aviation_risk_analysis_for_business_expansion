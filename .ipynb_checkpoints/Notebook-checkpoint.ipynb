{
 "cells": [
  {
   "cell_type": "markdown",
   "metadata": {},
   "source": [
    "#  Risk assessment for Aircraft business expansion\n",
    "## Introduction\n",
    "As the company is expandind into aviation business it’s crucial to understand the risks that are usually being encountered. This project will use data science techniques to analyze factors that need aattention to make informed decision making.\n",
    "## Objectives\n",
    "The tasks that will be undertaken are:\n",
    "- Importing the relevant libraries\n",
    "- Opening and inspecting the contents of Aviation data CSV using pandas dataframes\n",
    "- Data Cleaning\n",
    "- Data visualization using the matplotlib library\n",
    "- Providing insights and recommendations\n"
   ]
  },
  {
   "cell_type": "markdown",
   "metadata": {},
   "source": [
    "## Business Understanding\n",
    "The questions that are going to be answered for this project are:\n",
    "- What are the trends in aviation accidents over time?\n",
    "- What are the trends in Injuries Due to Aviation Accidents Over Time?\n",
    "- What is the relationship between weather conditions and accident severity?\n",
    "- Are there specific aircraft models that are involved in more accidents?\n",
    "- Is there a correlation between the number of engines and number of accidents?\n",
    "- Is there a relationship between the purpose of the plane and the number of accidents?\n",
    "- Which countries or locations experience the highest number of aviation accidents"
   ]
  },
  {
   "cell_type": "markdown",
   "metadata": {},
   "source": [
    "## Requirements\n",
    "## 1. Load the relevant libraries and create a dataframe with pandas\n",
    "We load the relevant libraries which include pandas, matplotlib, seaborn and numpyy then Create a dataframe df and that represent the AviationData CSV file. Use pandas methods to inspect the data.\n",
    "\n",
    "## 2. Data Understanding and Preparation\n",
    "This step involves checking the data to undestand its structure and check for errors hence selecting the relevant methods to handle the errors ensureing that the dataset is ready to be used for analysis\n",
    "\n",
    "## 3. Answering the business questions"
   ]
  },
  {
   "cell_type": "markdown",
   "metadata": {},
   "source": [
    "### 1. Load the relevant libraries and create a dataframe with pandas\n",
    "In the cell below, we:\n",
    "\n",
    "- Import and alias pandas as pd\n",
    "- Import and alias numpy as np\n",
    "- Import and alias seaborn as sns\n",
    "- Import and alias matplotlib.pyplot as plt\n",
    "- Set Matplotlib visualizations to display inline in the notebook"
   ]
  },
  {
   "cell_type": "code",
   "execution_count": 36,
   "metadata": {},
   "outputs": [],
   "source": [
    "# loading relevant libraries\n",
    "import pandas as pd\n",
    "import numpy as np\n",
    "import seaborn as sns\n",
    "import matplotlib.pyplot as plt\n",
    "\n",
    "%matplotlib inline"
   ]
  },
  {
   "cell_type": "markdown",
   "metadata": {},
   "source": [
    "###  Loading aviation data into a dataframe (df) and viewing the first few datasets\n",
    "In the cell below, load AviationData.csv as df and look at the first few samples in the dataset to get a feeling of how the data looks"
   ]
  },
  {
   "cell_type": "code",
   "execution_count": 37,
   "metadata": {},
   "outputs": [
    {
     "data": {
      "text/html": [
       "<div>\n",
       "<style scoped>\n",
       "    .dataframe tbody tr th:only-of-type {\n",
       "        vertical-align: middle;\n",
       "    }\n",
       "\n",
       "    .dataframe tbody tr th {\n",
       "        vertical-align: top;\n",
       "    }\n",
       "\n",
       "    .dataframe thead th {\n",
       "        text-align: right;\n",
       "    }\n",
       "</style>\n",
       "<table border=\"1\" class=\"dataframe\">\n",
       "  <thead>\n",
       "    <tr style=\"text-align: right;\">\n",
       "      <th></th>\n",
       "      <th>0</th>\n",
       "      <th>1</th>\n",
       "      <th>2</th>\n",
       "      <th>3</th>\n",
       "      <th>4</th>\n",
       "    </tr>\n",
       "  </thead>\n",
       "  <tbody>\n",
       "    <tr>\n",
       "      <th>Event.Id</th>\n",
       "      <td>20001218X45444</td>\n",
       "      <td>20001218X45447</td>\n",
       "      <td>20061025X01555</td>\n",
       "      <td>20001218X45448</td>\n",
       "      <td>20041105X01764</td>\n",
       "    </tr>\n",
       "    <tr>\n",
       "      <th>Investigation.Type</th>\n",
       "      <td>Accident</td>\n",
       "      <td>Accident</td>\n",
       "      <td>Accident</td>\n",
       "      <td>Accident</td>\n",
       "      <td>Accident</td>\n",
       "    </tr>\n",
       "    <tr>\n",
       "      <th>Accident.Number</th>\n",
       "      <td>SEA87LA080</td>\n",
       "      <td>LAX94LA336</td>\n",
       "      <td>NYC07LA005</td>\n",
       "      <td>LAX96LA321</td>\n",
       "      <td>CHI79FA064</td>\n",
       "    </tr>\n",
       "    <tr>\n",
       "      <th>Event.Date</th>\n",
       "      <td>1948-10-24</td>\n",
       "      <td>1962-07-19</td>\n",
       "      <td>1974-08-30</td>\n",
       "      <td>1977-06-19</td>\n",
       "      <td>1979-08-02</td>\n",
       "    </tr>\n",
       "    <tr>\n",
       "      <th>Location</th>\n",
       "      <td>MOOSE CREEK, ID</td>\n",
       "      <td>BRIDGEPORT, CA</td>\n",
       "      <td>Saltville, VA</td>\n",
       "      <td>EUREKA, CA</td>\n",
       "      <td>Canton, OH</td>\n",
       "    </tr>\n",
       "    <tr>\n",
       "      <th>Country</th>\n",
       "      <td>United States</td>\n",
       "      <td>United States</td>\n",
       "      <td>United States</td>\n",
       "      <td>United States</td>\n",
       "      <td>United States</td>\n",
       "    </tr>\n",
       "    <tr>\n",
       "      <th>Latitude</th>\n",
       "      <td>NaN</td>\n",
       "      <td>NaN</td>\n",
       "      <td>36.922223</td>\n",
       "      <td>NaN</td>\n",
       "      <td>NaN</td>\n",
       "    </tr>\n",
       "    <tr>\n",
       "      <th>Longitude</th>\n",
       "      <td>NaN</td>\n",
       "      <td>NaN</td>\n",
       "      <td>-81.878056</td>\n",
       "      <td>NaN</td>\n",
       "      <td>NaN</td>\n",
       "    </tr>\n",
       "    <tr>\n",
       "      <th>Airport.Code</th>\n",
       "      <td>NaN</td>\n",
       "      <td>NaN</td>\n",
       "      <td>NaN</td>\n",
       "      <td>NaN</td>\n",
       "      <td>NaN</td>\n",
       "    </tr>\n",
       "    <tr>\n",
       "      <th>Airport.Name</th>\n",
       "      <td>NaN</td>\n",
       "      <td>NaN</td>\n",
       "      <td>NaN</td>\n",
       "      <td>NaN</td>\n",
       "      <td>NaN</td>\n",
       "    </tr>\n",
       "    <tr>\n",
       "      <th>Injury.Severity</th>\n",
       "      <td>Fatal(2)</td>\n",
       "      <td>Fatal(4)</td>\n",
       "      <td>Fatal(3)</td>\n",
       "      <td>Fatal(2)</td>\n",
       "      <td>Fatal(1)</td>\n",
       "    </tr>\n",
       "    <tr>\n",
       "      <th>Aircraft.damage</th>\n",
       "      <td>Destroyed</td>\n",
       "      <td>Destroyed</td>\n",
       "      <td>Destroyed</td>\n",
       "      <td>Destroyed</td>\n",
       "      <td>Destroyed</td>\n",
       "    </tr>\n",
       "    <tr>\n",
       "      <th>Aircraft.Category</th>\n",
       "      <td>NaN</td>\n",
       "      <td>NaN</td>\n",
       "      <td>NaN</td>\n",
       "      <td>NaN</td>\n",
       "      <td>NaN</td>\n",
       "    </tr>\n",
       "    <tr>\n",
       "      <th>Registration.Number</th>\n",
       "      <td>NC6404</td>\n",
       "      <td>N5069P</td>\n",
       "      <td>N5142R</td>\n",
       "      <td>N1168J</td>\n",
       "      <td>N15NY</td>\n",
       "    </tr>\n",
       "    <tr>\n",
       "      <th>Make</th>\n",
       "      <td>Stinson</td>\n",
       "      <td>Piper</td>\n",
       "      <td>Cessna</td>\n",
       "      <td>Rockwell</td>\n",
       "      <td>Cessna</td>\n",
       "    </tr>\n",
       "    <tr>\n",
       "      <th>Model</th>\n",
       "      <td>108-3</td>\n",
       "      <td>PA24-180</td>\n",
       "      <td>172M</td>\n",
       "      <td>112</td>\n",
       "      <td>501</td>\n",
       "    </tr>\n",
       "    <tr>\n",
       "      <th>Amateur.Built</th>\n",
       "      <td>No</td>\n",
       "      <td>No</td>\n",
       "      <td>No</td>\n",
       "      <td>No</td>\n",
       "      <td>No</td>\n",
       "    </tr>\n",
       "    <tr>\n",
       "      <th>Number.of.Engines</th>\n",
       "      <td>1</td>\n",
       "      <td>1</td>\n",
       "      <td>1</td>\n",
       "      <td>1</td>\n",
       "      <td>NaN</td>\n",
       "    </tr>\n",
       "    <tr>\n",
       "      <th>Engine.Type</th>\n",
       "      <td>Reciprocating</td>\n",
       "      <td>Reciprocating</td>\n",
       "      <td>Reciprocating</td>\n",
       "      <td>Reciprocating</td>\n",
       "      <td>NaN</td>\n",
       "    </tr>\n",
       "    <tr>\n",
       "      <th>FAR.Description</th>\n",
       "      <td>NaN</td>\n",
       "      <td>NaN</td>\n",
       "      <td>NaN</td>\n",
       "      <td>NaN</td>\n",
       "      <td>NaN</td>\n",
       "    </tr>\n",
       "    <tr>\n",
       "      <th>Schedule</th>\n",
       "      <td>NaN</td>\n",
       "      <td>NaN</td>\n",
       "      <td>NaN</td>\n",
       "      <td>NaN</td>\n",
       "      <td>NaN</td>\n",
       "    </tr>\n",
       "    <tr>\n",
       "      <th>Purpose.of.flight</th>\n",
       "      <td>Personal</td>\n",
       "      <td>Personal</td>\n",
       "      <td>Personal</td>\n",
       "      <td>Personal</td>\n",
       "      <td>Personal</td>\n",
       "    </tr>\n",
       "    <tr>\n",
       "      <th>Air.carrier</th>\n",
       "      <td>NaN</td>\n",
       "      <td>NaN</td>\n",
       "      <td>NaN</td>\n",
       "      <td>NaN</td>\n",
       "      <td>NaN</td>\n",
       "    </tr>\n",
       "    <tr>\n",
       "      <th>Total.Fatal.Injuries</th>\n",
       "      <td>2</td>\n",
       "      <td>4</td>\n",
       "      <td>3</td>\n",
       "      <td>2</td>\n",
       "      <td>1</td>\n",
       "    </tr>\n",
       "    <tr>\n",
       "      <th>Total.Serious.Injuries</th>\n",
       "      <td>0</td>\n",
       "      <td>0</td>\n",
       "      <td>NaN</td>\n",
       "      <td>0</td>\n",
       "      <td>2</td>\n",
       "    </tr>\n",
       "    <tr>\n",
       "      <th>Total.Minor.Injuries</th>\n",
       "      <td>0</td>\n",
       "      <td>0</td>\n",
       "      <td>NaN</td>\n",
       "      <td>0</td>\n",
       "      <td>NaN</td>\n",
       "    </tr>\n",
       "    <tr>\n",
       "      <th>Total.Uninjured</th>\n",
       "      <td>0</td>\n",
       "      <td>0</td>\n",
       "      <td>NaN</td>\n",
       "      <td>0</td>\n",
       "      <td>0</td>\n",
       "    </tr>\n",
       "    <tr>\n",
       "      <th>Weather.Condition</th>\n",
       "      <td>UNK</td>\n",
       "      <td>UNK</td>\n",
       "      <td>IMC</td>\n",
       "      <td>IMC</td>\n",
       "      <td>VMC</td>\n",
       "    </tr>\n",
       "    <tr>\n",
       "      <th>Broad.phase.of.flight</th>\n",
       "      <td>Cruise</td>\n",
       "      <td>Unknown</td>\n",
       "      <td>Cruise</td>\n",
       "      <td>Cruise</td>\n",
       "      <td>Approach</td>\n",
       "    </tr>\n",
       "    <tr>\n",
       "      <th>Report.Status</th>\n",
       "      <td>Probable Cause</td>\n",
       "      <td>Probable Cause</td>\n",
       "      <td>Probable Cause</td>\n",
       "      <td>Probable Cause</td>\n",
       "      <td>Probable Cause</td>\n",
       "    </tr>\n",
       "    <tr>\n",
       "      <th>Publication.Date</th>\n",
       "      <td>NaN</td>\n",
       "      <td>19-09-1996</td>\n",
       "      <td>26-02-2007</td>\n",
       "      <td>12-09-2000</td>\n",
       "      <td>16-04-1980</td>\n",
       "    </tr>\n",
       "  </tbody>\n",
       "</table>\n",
       "</div>"
      ],
      "text/plain": [
       "                                      0               1               2  \\\n",
       "Event.Id                 20001218X45444  20001218X45447  20061025X01555   \n",
       "Investigation.Type             Accident        Accident        Accident   \n",
       "Accident.Number              SEA87LA080      LAX94LA336      NYC07LA005   \n",
       "Event.Date                   1948-10-24      1962-07-19      1974-08-30   \n",
       "Location                MOOSE CREEK, ID  BRIDGEPORT, CA   Saltville, VA   \n",
       "Country                   United States   United States   United States   \n",
       "Latitude                            NaN             NaN       36.922223   \n",
       "Longitude                           NaN             NaN      -81.878056   \n",
       "Airport.Code                        NaN             NaN             NaN   \n",
       "Airport.Name                        NaN             NaN             NaN   \n",
       "Injury.Severity                Fatal(2)        Fatal(4)        Fatal(3)   \n",
       "Aircraft.damage               Destroyed       Destroyed       Destroyed   \n",
       "Aircraft.Category                   NaN             NaN             NaN   \n",
       "Registration.Number              NC6404          N5069P          N5142R   \n",
       "Make                            Stinson           Piper          Cessna   \n",
       "Model                             108-3        PA24-180            172M   \n",
       "Amateur.Built                        No              No              No   \n",
       "Number.of.Engines                     1               1               1   \n",
       "Engine.Type               Reciprocating   Reciprocating   Reciprocating   \n",
       "FAR.Description                     NaN             NaN             NaN   \n",
       "Schedule                            NaN             NaN             NaN   \n",
       "Purpose.of.flight              Personal        Personal        Personal   \n",
       "Air.carrier                         NaN             NaN             NaN   \n",
       "Total.Fatal.Injuries                  2               4               3   \n",
       "Total.Serious.Injuries                0               0             NaN   \n",
       "Total.Minor.Injuries                  0               0             NaN   \n",
       "Total.Uninjured                       0               0             NaN   \n",
       "Weather.Condition                   UNK             UNK             IMC   \n",
       "Broad.phase.of.flight            Cruise         Unknown          Cruise   \n",
       "Report.Status            Probable Cause  Probable Cause  Probable Cause   \n",
       "Publication.Date                    NaN      19-09-1996      26-02-2007   \n",
       "\n",
       "                                     3               4  \n",
       "Event.Id                20001218X45448  20041105X01764  \n",
       "Investigation.Type            Accident        Accident  \n",
       "Accident.Number             LAX96LA321      CHI79FA064  \n",
       "Event.Date                  1977-06-19      1979-08-02  \n",
       "Location                    EUREKA, CA      Canton, OH  \n",
       "Country                  United States   United States  \n",
       "Latitude                           NaN             NaN  \n",
       "Longitude                          NaN             NaN  \n",
       "Airport.Code                       NaN             NaN  \n",
       "Airport.Name                       NaN             NaN  \n",
       "Injury.Severity               Fatal(2)        Fatal(1)  \n",
       "Aircraft.damage              Destroyed       Destroyed  \n",
       "Aircraft.Category                  NaN             NaN  \n",
       "Registration.Number             N1168J           N15NY  \n",
       "Make                          Rockwell          Cessna  \n",
       "Model                              112             501  \n",
       "Amateur.Built                       No              No  \n",
       "Number.of.Engines                    1             NaN  \n",
       "Engine.Type              Reciprocating             NaN  \n",
       "FAR.Description                    NaN             NaN  \n",
       "Schedule                           NaN             NaN  \n",
       "Purpose.of.flight             Personal        Personal  \n",
       "Air.carrier                        NaN             NaN  \n",
       "Total.Fatal.Injuries                 2               1  \n",
       "Total.Serious.Injuries               0               2  \n",
       "Total.Minor.Injuries                 0             NaN  \n",
       "Total.Uninjured                      0               0  \n",
       "Weather.Condition                  IMC             VMC  \n",
       "Broad.phase.of.flight           Cruise        Approach  \n",
       "Report.Status           Probable Cause  Probable Cause  \n",
       "Publication.Date            12-09-2000      16-04-1980  "
      ]
     },
     "execution_count": 37,
     "metadata": {},
     "output_type": "execute_result"
    }
   ],
   "source": [
    "df = pd.read_csv('AviationData.csv', encoding='latin-1', low_memory=False);\n",
    "df.head(5).T"
   ]
  },
  {
   "cell_type": "markdown",
   "metadata": {},
   "source": [
    "### 2. Data Understanding and Preparation"
   ]
  },
  {
   "cell_type": "markdown",
   "metadata": {},
   "source": [
    "This step includes:\n",
    "\n",
    "- Understanding the dimensionality of your dataset\n",
    "- Investigating what type of data it contains, and the data types used to store it\n",
    "- Discovering how missing values are encoded, and how many there are\n",
    "- Preparing data for analysis"
   ]
  },
  {
   "cell_type": "code",
   "execution_count": 38,
   "metadata": {},
   "outputs": [
    {
     "name": "stdout",
     "output_type": "stream",
     "text": [
      "<class 'pandas.core.frame.DataFrame'>\n",
      "RangeIndex: 88889 entries, 0 to 88888\n",
      "Data columns (total 31 columns):\n",
      " #   Column                  Non-Null Count  Dtype  \n",
      "---  ------                  --------------  -----  \n",
      " 0   Event.Id                88889 non-null  object \n",
      " 1   Investigation.Type      88889 non-null  object \n",
      " 2   Accident.Number         88889 non-null  object \n",
      " 3   Event.Date              88889 non-null  object \n",
      " 4   Location                88837 non-null  object \n",
      " 5   Country                 88663 non-null  object \n",
      " 6   Latitude                34382 non-null  object \n",
      " 7   Longitude               34373 non-null  object \n",
      " 8   Airport.Code            50249 non-null  object \n",
      " 9   Airport.Name            52790 non-null  object \n",
      " 10  Injury.Severity         87889 non-null  object \n",
      " 11  Aircraft.damage         85695 non-null  object \n",
      " 12  Aircraft.Category       32287 non-null  object \n",
      " 13  Registration.Number     87572 non-null  object \n",
      " 14  Make                    88826 non-null  object \n",
      " 15  Model                   88797 non-null  object \n",
      " 16  Amateur.Built           88787 non-null  object \n",
      " 17  Number.of.Engines       82805 non-null  float64\n",
      " 18  Engine.Type             81812 non-null  object \n",
      " 19  FAR.Description         32023 non-null  object \n",
      " 20  Schedule                12582 non-null  object \n",
      " 21  Purpose.of.flight       82697 non-null  object \n",
      " 22  Air.carrier             16648 non-null  object \n",
      " 23  Total.Fatal.Injuries    77488 non-null  float64\n",
      " 24  Total.Serious.Injuries  76379 non-null  float64\n",
      " 25  Total.Minor.Injuries    76956 non-null  float64\n",
      " 26  Total.Uninjured         82977 non-null  float64\n",
      " 27  Weather.Condition       84397 non-null  object \n",
      " 28  Broad.phase.of.flight   61724 non-null  object \n",
      " 29  Report.Status           82508 non-null  object \n",
      " 30  Publication.Date        75118 non-null  object \n",
      "dtypes: float64(5), object(26)\n",
      "memory usage: 21.0+ MB\n"
     ]
    }
   ],
   "source": [
    "# checking the information in the dataframe\n",
    "df.info()"
   ]
  },
  {
   "cell_type": "markdown",
   "metadata": {},
   "source": [
    "### Interpretation of the above results\n",
    "From the above we can see that there are 31 colums and 88889 columns.\n",
    "We have five columns with floating data type and the rest are strings.\n",
    "We can also see that most of the columns have missing datasets which need to be corrected in an appropriate manner for accurate results. "
   ]
  },
  {
   "cell_type": "markdown",
   "metadata": {},
   "source": [
    "### Data preparation\n",
    "#### Checking for null values\n",
    "The first task is to check for null values in each colum so that we can choose the best method for filling the null values"
   ]
  },
  {
   "cell_type": "code",
   "execution_count": 39,
   "metadata": {},
   "outputs": [
    {
     "data": {
      "text/plain": [
       "Event.Id                      0\n",
       "Investigation.Type            0\n",
       "Accident.Number               0\n",
       "Event.Date                    0\n",
       "Location                     52\n",
       "Country                     226\n",
       "Latitude                  54507\n",
       "Longitude                 54516\n",
       "Airport.Code              38640\n",
       "Airport.Name              36099\n",
       "Injury.Severity            1000\n",
       "Aircraft.damage            3194\n",
       "Aircraft.Category         56602\n",
       "Registration.Number        1317\n",
       "Make                         63\n",
       "Model                        92\n",
       "Amateur.Built               102\n",
       "Number.of.Engines          6084\n",
       "Engine.Type                7077\n",
       "FAR.Description           56866\n",
       "Schedule                  76307\n",
       "Purpose.of.flight          6192\n",
       "Air.carrier               72241\n",
       "Total.Fatal.Injuries      11401\n",
       "Total.Serious.Injuries    12510\n",
       "Total.Minor.Injuries      11933\n",
       "Total.Uninjured            5912\n",
       "Weather.Condition          4492\n",
       "Broad.phase.of.flight     27165\n",
       "Report.Status              6381\n",
       "Publication.Date          13771\n",
       "dtype: int64"
      ]
     },
     "execution_count": 39,
     "metadata": {},
     "output_type": "execute_result"
    }
   ],
   "source": [
    "# Checking for number of null values\n",
    "df.isnull().sum()"
   ]
  },
  {
   "cell_type": "markdown",
   "metadata": {},
   "source": [
    "#### Selecting relevant columns to answer our business questions"
   ]
  },
  {
   "cell_type": "code",
   "execution_count": 40,
   "metadata": {},
   "outputs": [
    {
     "data": {
      "text/html": [
       "<div>\n",
       "<style scoped>\n",
       "    .dataframe tbody tr th:only-of-type {\n",
       "        vertical-align: middle;\n",
       "    }\n",
       "\n",
       "    .dataframe tbody tr th {\n",
       "        vertical-align: top;\n",
       "    }\n",
       "\n",
       "    .dataframe thead th {\n",
       "        text-align: right;\n",
       "    }\n",
       "</style>\n",
       "<table border=\"1\" class=\"dataframe\">\n",
       "  <thead>\n",
       "    <tr style=\"text-align: right;\">\n",
       "      <th></th>\n",
       "      <th>0</th>\n",
       "      <th>1</th>\n",
       "      <th>2</th>\n",
       "      <th>3</th>\n",
       "      <th>4</th>\n",
       "    </tr>\n",
       "  </thead>\n",
       "  <tbody>\n",
       "    <tr>\n",
       "      <th>Accident.Number</th>\n",
       "      <td>SEA87LA080</td>\n",
       "      <td>LAX94LA336</td>\n",
       "      <td>NYC07LA005</td>\n",
       "      <td>LAX96LA321</td>\n",
       "      <td>CHI79FA064</td>\n",
       "    </tr>\n",
       "    <tr>\n",
       "      <th>Event.Date</th>\n",
       "      <td>1948-10-24</td>\n",
       "      <td>1962-07-19</td>\n",
       "      <td>1974-08-30</td>\n",
       "      <td>1977-06-19</td>\n",
       "      <td>1979-08-02</td>\n",
       "    </tr>\n",
       "    <tr>\n",
       "      <th>Location</th>\n",
       "      <td>MOOSE CREEK, ID</td>\n",
       "      <td>BRIDGEPORT, CA</td>\n",
       "      <td>Saltville, VA</td>\n",
       "      <td>EUREKA, CA</td>\n",
       "      <td>Canton, OH</td>\n",
       "    </tr>\n",
       "    <tr>\n",
       "      <th>Country</th>\n",
       "      <td>United States</td>\n",
       "      <td>United States</td>\n",
       "      <td>United States</td>\n",
       "      <td>United States</td>\n",
       "      <td>United States</td>\n",
       "    </tr>\n",
       "    <tr>\n",
       "      <th>Investigation.Type</th>\n",
       "      <td>Accident</td>\n",
       "      <td>Accident</td>\n",
       "      <td>Accident</td>\n",
       "      <td>Accident</td>\n",
       "      <td>Accident</td>\n",
       "    </tr>\n",
       "    <tr>\n",
       "      <th>Injury.Severity</th>\n",
       "      <td>Fatal(2)</td>\n",
       "      <td>Fatal(4)</td>\n",
       "      <td>Fatal(3)</td>\n",
       "      <td>Fatal(2)</td>\n",
       "      <td>Fatal(1)</td>\n",
       "    </tr>\n",
       "    <tr>\n",
       "      <th>Registration.Number</th>\n",
       "      <td>NC6404</td>\n",
       "      <td>N5069P</td>\n",
       "      <td>N5142R</td>\n",
       "      <td>N1168J</td>\n",
       "      <td>N15NY</td>\n",
       "    </tr>\n",
       "    <tr>\n",
       "      <th>Make</th>\n",
       "      <td>Stinson</td>\n",
       "      <td>Piper</td>\n",
       "      <td>Cessna</td>\n",
       "      <td>Rockwell</td>\n",
       "      <td>Cessna</td>\n",
       "    </tr>\n",
       "    <tr>\n",
       "      <th>Model</th>\n",
       "      <td>108-3</td>\n",
       "      <td>PA24-180</td>\n",
       "      <td>172M</td>\n",
       "      <td>112</td>\n",
       "      <td>501</td>\n",
       "    </tr>\n",
       "    <tr>\n",
       "      <th>Amateur.Built</th>\n",
       "      <td>No</td>\n",
       "      <td>No</td>\n",
       "      <td>No</td>\n",
       "      <td>No</td>\n",
       "      <td>No</td>\n",
       "    </tr>\n",
       "    <tr>\n",
       "      <th>Number.of.Engines</th>\n",
       "      <td>1</td>\n",
       "      <td>1</td>\n",
       "      <td>1</td>\n",
       "      <td>1</td>\n",
       "      <td>NaN</td>\n",
       "    </tr>\n",
       "    <tr>\n",
       "      <th>Engine.Type</th>\n",
       "      <td>Reciprocating</td>\n",
       "      <td>Reciprocating</td>\n",
       "      <td>Reciprocating</td>\n",
       "      <td>Reciprocating</td>\n",
       "      <td>NaN</td>\n",
       "    </tr>\n",
       "    <tr>\n",
       "      <th>Purpose.of.flight</th>\n",
       "      <td>Personal</td>\n",
       "      <td>Personal</td>\n",
       "      <td>Personal</td>\n",
       "      <td>Personal</td>\n",
       "      <td>Personal</td>\n",
       "    </tr>\n",
       "    <tr>\n",
       "      <th>Total.Fatal.Injuries</th>\n",
       "      <td>2</td>\n",
       "      <td>4</td>\n",
       "      <td>3</td>\n",
       "      <td>2</td>\n",
       "      <td>1</td>\n",
       "    </tr>\n",
       "    <tr>\n",
       "      <th>Total.Serious.Injuries</th>\n",
       "      <td>0</td>\n",
       "      <td>0</td>\n",
       "      <td>NaN</td>\n",
       "      <td>0</td>\n",
       "      <td>2</td>\n",
       "    </tr>\n",
       "    <tr>\n",
       "      <th>Total.Minor.Injuries</th>\n",
       "      <td>0</td>\n",
       "      <td>0</td>\n",
       "      <td>NaN</td>\n",
       "      <td>0</td>\n",
       "      <td>NaN</td>\n",
       "    </tr>\n",
       "    <tr>\n",
       "      <th>Total.Uninjured</th>\n",
       "      <td>0</td>\n",
       "      <td>0</td>\n",
       "      <td>NaN</td>\n",
       "      <td>0</td>\n",
       "      <td>0</td>\n",
       "    </tr>\n",
       "    <tr>\n",
       "      <th>Weather.Condition</th>\n",
       "      <td>UNK</td>\n",
       "      <td>UNK</td>\n",
       "      <td>IMC</td>\n",
       "      <td>IMC</td>\n",
       "      <td>VMC</td>\n",
       "    </tr>\n",
       "  </tbody>\n",
       "</table>\n",
       "</div>"
      ],
      "text/plain": [
       "                                      0               1              2  \\\n",
       "Accident.Number              SEA87LA080      LAX94LA336     NYC07LA005   \n",
       "Event.Date                   1948-10-24      1962-07-19     1974-08-30   \n",
       "Location                MOOSE CREEK, ID  BRIDGEPORT, CA  Saltville, VA   \n",
       "Country                   United States   United States  United States   \n",
       "Investigation.Type             Accident        Accident       Accident   \n",
       "Injury.Severity                Fatal(2)        Fatal(4)       Fatal(3)   \n",
       "Registration.Number              NC6404          N5069P         N5142R   \n",
       "Make                            Stinson           Piper         Cessna   \n",
       "Model                             108-3        PA24-180           172M   \n",
       "Amateur.Built                        No              No             No   \n",
       "Number.of.Engines                     1               1              1   \n",
       "Engine.Type               Reciprocating   Reciprocating  Reciprocating   \n",
       "Purpose.of.flight              Personal        Personal       Personal   \n",
       "Total.Fatal.Injuries                  2               4              3   \n",
       "Total.Serious.Injuries                0               0            NaN   \n",
       "Total.Minor.Injuries                  0               0            NaN   \n",
       "Total.Uninjured                       0               0            NaN   \n",
       "Weather.Condition                   UNK             UNK            IMC   \n",
       "\n",
       "                                    3              4  \n",
       "Accident.Number            LAX96LA321     CHI79FA064  \n",
       "Event.Date                 1977-06-19     1979-08-02  \n",
       "Location                   EUREKA, CA     Canton, OH  \n",
       "Country                 United States  United States  \n",
       "Investigation.Type           Accident       Accident  \n",
       "Injury.Severity              Fatal(2)       Fatal(1)  \n",
       "Registration.Number            N1168J          N15NY  \n",
       "Make                         Rockwell         Cessna  \n",
       "Model                             112            501  \n",
       "Amateur.Built                      No             No  \n",
       "Number.of.Engines                   1            NaN  \n",
       "Engine.Type             Reciprocating            NaN  \n",
       "Purpose.of.flight            Personal       Personal  \n",
       "Total.Fatal.Injuries                2              1  \n",
       "Total.Serious.Injuries              0              2  \n",
       "Total.Minor.Injuries                0            NaN  \n",
       "Total.Uninjured                     0              0  \n",
       "Weather.Condition                 IMC            VMC  "
      ]
     },
     "execution_count": 40,
     "metadata": {},
     "output_type": "execute_result"
    }
   ],
   "source": [
    "# code that selects onl the relevant columns\n",
    "df = df[['Accident.Number',\n",
    "        'Event.Date',\n",
    "        'Location',\n",
    "        'Country',\n",
    "        'Investigation.Type',\n",
    "        'Injury.Severity',\n",
    "        'Registration.Number',\n",
    "        'Make',\n",
    "        'Model',\n",
    "        'Amateur.Built',\n",
    "        'Number.of.Engines',\n",
    "        'Engine.Type',\n",
    "        'Purpose.of.flight',\n",
    "        'Total.Fatal.Injuries',\n",
    "        'Total.Serious.Injuries',\n",
    "        'Total.Minor.Injuries',\n",
    "        'Total.Uninjured',\n",
    "        'Weather.Condition'\n",
    "        ]]\n",
    "# Inspect the first few rows\n",
    "df.head().T"
   ]
  },
  {
   "cell_type": "markdown",
   "metadata": {},
   "source": [
    "#### Handling Errors in data\n",
    "##### Determining the best methods for data cleaning\n",
    "We will begin by filling the null values"
   ]
  },
  {
   "cell_type": "code",
   "execution_count": 41,
   "metadata": {},
   "outputs": [
    {
     "data": {
      "text/plain": [
       "Accident.Number               0\n",
       "Event.Date                    0\n",
       "Location                     52\n",
       "Country                     226\n",
       "Investigation.Type            0\n",
       "Injury.Severity            1000\n",
       "Registration.Number        1317\n",
       "Make                         63\n",
       "Model                        92\n",
       "Amateur.Built               102\n",
       "Number.of.Engines          6084\n",
       "Engine.Type                7077\n",
       "Purpose.of.flight          6192\n",
       "Total.Fatal.Injuries      11401\n",
       "Total.Serious.Injuries    12510\n",
       "Total.Minor.Injuries      11933\n",
       "Total.Uninjured            5912\n",
       "Weather.Condition          4492\n",
       "dtype: int64"
      ]
     },
     "execution_count": 41,
     "metadata": {},
     "output_type": "execute_result"
    }
   ],
   "source": [
    "# checking df null information\n",
    "df.isnull().sum()"
   ]
  },
  {
   "cell_type": "code",
   "execution_count": 42,
   "metadata": {},
   "outputs": [
    {
     "data": {
      "text/html": [
       "<div>\n",
       "<style scoped>\n",
       "    .dataframe tbody tr th:only-of-type {\n",
       "        vertical-align: middle;\n",
       "    }\n",
       "\n",
       "    .dataframe tbody tr th {\n",
       "        vertical-align: top;\n",
       "    }\n",
       "\n",
       "    .dataframe thead th {\n",
       "        text-align: right;\n",
       "    }\n",
       "</style>\n",
       "<table border=\"1\" class=\"dataframe\">\n",
       "  <thead>\n",
       "    <tr style=\"text-align: right;\">\n",
       "      <th></th>\n",
       "      <th>Number.of.Engines</th>\n",
       "      <th>Total.Fatal.Injuries</th>\n",
       "      <th>Total.Serious.Injuries</th>\n",
       "      <th>Total.Minor.Injuries</th>\n",
       "      <th>Total.Uninjured</th>\n",
       "    </tr>\n",
       "  </thead>\n",
       "  <tbody>\n",
       "    <tr>\n",
       "      <th>count</th>\n",
       "      <td>82805.000000</td>\n",
       "      <td>77488.000000</td>\n",
       "      <td>76379.000000</td>\n",
       "      <td>76956.000000</td>\n",
       "      <td>82977.000000</td>\n",
       "    </tr>\n",
       "    <tr>\n",
       "      <th>mean</th>\n",
       "      <td>1.146585</td>\n",
       "      <td>0.647855</td>\n",
       "      <td>0.279881</td>\n",
       "      <td>0.357061</td>\n",
       "      <td>5.325440</td>\n",
       "    </tr>\n",
       "    <tr>\n",
       "      <th>std</th>\n",
       "      <td>0.446510</td>\n",
       "      <td>5.485960</td>\n",
       "      <td>1.544084</td>\n",
       "      <td>2.235625</td>\n",
       "      <td>27.913634</td>\n",
       "    </tr>\n",
       "    <tr>\n",
       "      <th>min</th>\n",
       "      <td>0.000000</td>\n",
       "      <td>0.000000</td>\n",
       "      <td>0.000000</td>\n",
       "      <td>0.000000</td>\n",
       "      <td>0.000000</td>\n",
       "    </tr>\n",
       "    <tr>\n",
       "      <th>25%</th>\n",
       "      <td>1.000000</td>\n",
       "      <td>0.000000</td>\n",
       "      <td>0.000000</td>\n",
       "      <td>0.000000</td>\n",
       "      <td>0.000000</td>\n",
       "    </tr>\n",
       "    <tr>\n",
       "      <th>50%</th>\n",
       "      <td>1.000000</td>\n",
       "      <td>0.000000</td>\n",
       "      <td>0.000000</td>\n",
       "      <td>0.000000</td>\n",
       "      <td>1.000000</td>\n",
       "    </tr>\n",
       "    <tr>\n",
       "      <th>75%</th>\n",
       "      <td>1.000000</td>\n",
       "      <td>0.000000</td>\n",
       "      <td>0.000000</td>\n",
       "      <td>0.000000</td>\n",
       "      <td>2.000000</td>\n",
       "    </tr>\n",
       "    <tr>\n",
       "      <th>max</th>\n",
       "      <td>8.000000</td>\n",
       "      <td>349.000000</td>\n",
       "      <td>161.000000</td>\n",
       "      <td>380.000000</td>\n",
       "      <td>699.000000</td>\n",
       "    </tr>\n",
       "  </tbody>\n",
       "</table>\n",
       "</div>"
      ],
      "text/plain": [
       "       Number.of.Engines  Total.Fatal.Injuries  Total.Serious.Injuries  \\\n",
       "count       82805.000000          77488.000000            76379.000000   \n",
       "mean            1.146585              0.647855                0.279881   \n",
       "std             0.446510              5.485960                1.544084   \n",
       "min             0.000000              0.000000                0.000000   \n",
       "25%             1.000000              0.000000                0.000000   \n",
       "50%             1.000000              0.000000                0.000000   \n",
       "75%             1.000000              0.000000                0.000000   \n",
       "max             8.000000            349.000000              161.000000   \n",
       "\n",
       "       Total.Minor.Injuries  Total.Uninjured  \n",
       "count          76956.000000     82977.000000  \n",
       "mean               0.357061         5.325440  \n",
       "std                2.235625        27.913634  \n",
       "min                0.000000         0.000000  \n",
       "25%                0.000000         0.000000  \n",
       "50%                0.000000         1.000000  \n",
       "75%                0.000000         2.000000  \n",
       "max              380.000000       699.000000  "
      ]
     },
     "execution_count": 42,
     "metadata": {},
     "output_type": "execute_result"
    }
   ],
   "source": [
    "# checking summary of the numerical columns in our dataset\n",
    "df.describe()"
   ]
  },
  {
   "cell_type": "code",
   "execution_count": 43,
   "metadata": {},
   "outputs": [],
   "source": [
    "# Filling missing categorical values\n",
    "df['Location'].fillna('Unknown', inplace=True)\n",
    "df['Country'].fillna('Unknown', inplace=True)\n",
    "df['Weather.Condition'].fillna('UNK', inplace=True)\n",
    "df['Make'].fillna('Unknown', inplace=True)\n",
    "df['Model'].fillna('Unknown', inplace=True)\n",
    "df['Purpose.of.flight'].fillna('Unknown', inplace=True)\n",
    "\n",
    "# Filling missing numerical values\n",
    "df['Number.of.Engines'].fillna(df['Number.of.Engines'].mode()[0], inplace=True)\n",
    "\n",
    "injury_cols = ['Total.Fatal.Injuries', 'Total.Serious.Injuries', 'Total.Minor.Injuries', 'Total.Uninjured']\n",
    "df[injury_cols] = df[injury_cols].fillna(0)\n"
   ]
  },
  {
   "cell_type": "markdown",
   "metadata": {},
   "source": [
    "For handling the missing values for this columns, I chose to replace the missing value as follows:\n",
    "- Mode for Number.of.Engines ensures the most common value (1) is used instead of mean (which is slightly skewed).\n",
    "- Zero for injury counts is logical because if injuries were significant, they would likely be recorded.\n",
    "- \"Unknown\" for categorical fields prevents errors during analysis"
   ]
  },
  {
   "cell_type": "markdown",
   "metadata": {},
   "source": [
    "#### Checking for unique values in ['Weather.Condition'] coloumn"
   ]
  },
  {
   "cell_type": "code",
   "execution_count": 44,
   "metadata": {},
   "outputs": [
    {
     "data": {
      "text/plain": [
       "array(['UNK', 'IMC', 'VMC', 'Unk'], dtype=object)"
      ]
     },
     "execution_count": 44,
     "metadata": {},
     "output_type": "execute_result"
    }
   ],
   "source": [
    "df['Weather.Condition'].unique()"
   ]
  },
  {
   "cell_type": "markdown",
   "metadata": {},
   "source": [
    "#### Replacing the Unk with UNK in 'Weather.Condition' coloumn"
   ]
  },
  {
   "cell_type": "code",
   "execution_count": 45,
   "metadata": {},
   "outputs": [
    {
     "data": {
      "text/plain": [
       "array(['UNK', 'IMC', 'VMC'], dtype=object)"
      ]
     },
     "execution_count": 45,
     "metadata": {},
     "output_type": "execute_result"
    }
   ],
   "source": [
    "# Create a copy of the DataFrame to avoid error message\n",
    "df = df.copy()\n",
    "\n",
    "# Replace 'Unk' with 'UNK'\n",
    "df['Weather.Condition'] = df['Weather.Condition'].replace('Unk', 'UNK')\n",
    "\n",
    "# Check the unique values again\n",
    "df['Weather.Condition'].unique()"
   ]
  },
  {
   "cell_type": "markdown",
   "metadata": {},
   "source": [
    "#### Replacing the Unk with UNK in 'Engine.Type' coloumn"
   ]
  },
  {
   "cell_type": "code",
   "execution_count": 46,
   "metadata": {},
   "outputs": [
    {
     "data": {
      "text/plain": [
       "array(['Reciprocating', nan, 'Turbo Fan', 'Turbo Shaft', 'UNK',\n",
       "       'Turbo Prop', 'Turbo Jet', 'None', 'Electric', 'Hybrid Rocket',\n",
       "       'Geared Turbofan', 'LR', 'NONE'], dtype=object)"
      ]
     },
     "execution_count": 46,
     "metadata": {},
     "output_type": "execute_result"
    }
   ],
   "source": [
    "df = df.copy()\n",
    "\n",
    "# Replace 'Unk' with 'UNK'\n",
    "df['Engine.Type'] = df['Engine.Type'].replace('Unknown', 'UNK')\n",
    "\n",
    "# Check the unique values again\n",
    "df['Engine.Type'].unique()"
   ]
  },
  {
   "cell_type": "markdown",
   "metadata": {},
   "source": [
    "#### Checking for outliers\n",
    "Outliers are data points that differ significantly from other observations. Identifying and handling them is crucial because they can impact data analysis and decision-making."
   ]
  },
  {
   "cell_type": "code",
   "execution_count": 47,
   "metadata": {},
   "outputs": [
    {
     "data": {
      "image/png": "[encoded data removed]",
      "text/plain": [
       "<Figure size 1440x360 with 4 Axes>"
      ]
     },
     "metadata": {
      "needs_background": "light"
     },
     "output_type": "display_data"
    }
   ],
   "source": [
    "# Define the columns to visualize\n",
    "cols = ['Total.Fatal.Injuries', 'Total.Serious.Injuries', 'Total.Minor.Injuries', 'Total.Uninjured']\n",
    "\n",
    "# Create a figure with subplots\n",
    "fig, axes = plt.subplots(1, 4, figsize=(20, 5))  # 1 row, 4 columns\n",
    "\n",
    "# Loop through each column and plot the boxplot in a subplot\n",
    "for i, col in enumerate(cols):\n",
    "    sns.boxplot(y=df[col], ax=axes[i])\n",
    "    axes[i].set_title(f'Boxplot for {col}')\n",
    "    axes[i].set_ylabel('')  # Remove y-label for a cleaner look\n",
    "\n",
    "plt.tight_layout()  # Adjust layout to prevent overlap\n",
    "plt.show()"
   ]
  },
  {
   "cell_type": "markdown",
   "metadata": {},
   "source": [
    "Extreme values make sense in our datasets hence we will keep them. If we had data errors, we would have to work with the IQR to remove them."
   ]
  },
  {
   "cell_type": "markdown",
   "metadata": {},
   "source": [
    "#### Filter dates\n",
    "we are working from the year 1962 to 2023 hence we should ensure we have the right datasets"
   ]
  },
  {
   "cell_type": "code",
   "execution_count": 48,
   "metadata": {},
   "outputs": [],
   "source": [
    "# Convert Event.Date to datetime format\n",
    "df['Event.Date'] = pd.to_datetime(df['Event.Date'], errors='coerce')\n",
    "\n",
    "# Filter data from 1962 to 2023\n",
    "df = df[(df['Event.Date'].dt.year >= 1962) & (df['Event.Date'].dt.year <= 2023)]"
   ]
  },
  {
   "cell_type": "markdown",
   "metadata": {},
   "source": [
    "## Question 1: What are the trends in aviation accidents over time?"
   ]
  },
  {
   "cell_type": "code",
   "execution_count": 49,
   "metadata": {},
   "outputs": [
    {
     "data": {
      "image/png": "[encoded data removed]",
      "text/plain": [
       "<Figure size 864x432 with 1 Axes>"
      ]
     },
     "metadata": {
      "needs_background": "light"
     },
     "output_type": "display_data"
    }
   ],
   "source": [
    "# Extract year\n",
    "df['Year'] = df['Event.Date'].dt.year\n",
    "\n",
    "# Count accidents per year\n",
    "accidents_per_year = df.groupby('Year').size()\n",
    "\n",
    "# Plot\n",
    "plt.figure(figsize=(12,6))\n",
    "sns.lineplot(x=accidents_per_year.index, y=accidents_per_year.values)\n",
    "plt.title('Trend of Aviation Accidents (1962–2023)')\n",
    "plt.xlabel('Year')\n",
    "plt.ylabel('Number of Accidents')\n",
    "plt.grid(True)\n",
    "plt.show()"
   ]
  },
  {
   "cell_type": "markdown",
   "metadata": {},
   "source": [
    "### Answer\n",
    "From the above data visualization, we can observe that there has been an overall drop of aviation accidents from 1982 to the year 2023.\n",
    "In the year 1982 we had the highest record of aviation accidents and 2020 having the lowest as the current lowest aviation accident recorded.\n",
    "From the year 1963 to 1981 we had the lowest aviation accidents recorded."
   ]
  },
  {
   "cell_type": "markdown",
   "metadata": {},
   "source": [
    "## Question 2: What are the trends in Injuries Due to Aviation Accidents Over Time?"
   ]
  },
  {
   "cell_type": "code",
   "execution_count": 50,
   "metadata": {},
   "outputs": [
    {
     "data": {
      "image/png": "[encoded data removed]",
      "text/plain": [
       "<Figure size 864x432 with 1 Axes>"
      ]
     },
     "metadata": {
      "needs_background": "light"
     },
     "output_type": "display_data"
    }
   ],
   "source": [
    "# Convert Event.Date to datetime\n",
    "df['Event.Date'] = pd.to_datetime(df['Event.Date'], errors='coerce')\n",
    "\n",
    "# Extract year from Event.Date\n",
    "df['Year'] = df['Event.Date'].dt.year\n",
    "\n",
    "# Group by Year and sum the injuries\n",
    "injury_trends = df.groupby('Year')[['Total.Fatal.Injuries', 'Total.Serious.Injuries', 'Total.Minor.Injuries']].sum()\n",
    "\n",
    "# Plot the trends\n",
    "plt.figure(figsize=(12, 6))\n",
    "sns.lineplot(x=injury_trends.index, y=injury_trends['Total.Fatal.Injuries'], label='Fatal Injuries', color='red', linewidth=2)\n",
    "sns.lineplot(x=injury_trends.index, y=injury_trends['Total.Serious.Injuries'], label='Serious Injuries', color='orange', linewidth=2)\n",
    "sns.lineplot(x=injury_trends.index, y=injury_trends['Total.Minor.Injuries'], label='Minor Injuries', color='blue', linewidth=2)\n",
    "\n",
    "# Adding titles and labels\n",
    "plt.title('Trends in Injuries Due to Aviation Accidents Over Time', fontsize=16)\n",
    "plt.xlabel('Year', fontsize=12)\n",
    "plt.ylabel('Number of Injuries', fontsize=12)\n",
    "\n",
    "# Show legend\n",
    "plt.legend(title='Injury Type')\n",
    "\n",
    "# Show the plot\n",
    "plt.show()"
   ]
  },
  {
   "cell_type": "markdown",
   "metadata": {},
   "source": [
    "### Answer\n",
    "From the lineplot above we can observe that we have high records of fatal accidents followed by the minor injuries and finally serious injuries until the year 2008 where serious injuries are higher than minor injuries untill the year 2023.\n",
    "\n",
    "Both Fatal, serious and minor injuries have been recorded to be reducing gradually over the year."
   ]
  },
  {
   "cell_type": "markdown",
   "metadata": {},
   "source": [
    "## Question 3: Do weather conditions influence accidents"
   ]
  },
  {
   "cell_type": "code",
   "execution_count": 51,
   "metadata": {},
   "outputs": [
    {
     "data": {
      "image/png": "[encoded data removed]",
      "text/plain": [
       "<Figure size 720x360 with 1 Axes>"
      ]
     },
     "metadata": {
      "needs_background": "light"
     },
     "output_type": "display_data"
    }
   ],
   "source": [
    "plt.figure(figsize=(10,5))\n",
    "sns.countplot(x=df['Weather.Condition'], order=df['Weather.Condition'].value_counts().index, palette='coolwarm')\n",
    "plt.title('Accidents by Weather Condition')\n",
    "plt.xlabel('Weather Condition')\n",
    "plt.ylabel('Count')\n",
    "plt.show()"
   ]
  },
  {
   "cell_type": "markdown",
   "metadata": {},
   "source": [
    "### Answer\n",
    "From the above visualization: It turns out that accidents are mainly experienced during visual meteorological conditions (VMC) compared to instrument meteorological conditions (IMC) which might seem counterintuitive as one might expect more accidents in poorer visibility conditions "
   ]
  },
  {
   "cell_type": "markdown",
   "metadata": {},
   "source": [
    "## Question 4: Are there specific aircraft models that are involved in more accidents?"
   ]
  },
  {
   "cell_type": "code",
   "execution_count": 52,
   "metadata": {},
   "outputs": [
    {
     "data": {
      "image/png": "[encoded data removed]",
      "text/plain": [
       "<Figure size 864x432 with 1 Axes>"
      ]
     },
     "metadata": {
      "needs_background": "light"
     },
     "output_type": "display_data"
    }
   ],
   "source": [
    "top_models = df['Model'].value_counts().nlargest(10)  # Top 10 most frequent models\n",
    "\n",
    "plt.figure(figsize=(12,6))\n",
    "sns.barplot(x=top_models.values, y=top_models.index, color='steelblue')\n",
    "plt.title('Top 10 Aircraft Models Involved in Accidents')\n",
    "plt.xlabel('Number of Accidents')\n",
    "plt.ylabel('Aircraft Model')\n",
    "plt.show()"
   ]
  },
  {
   "cell_type": "markdown",
   "metadata": {},
   "source": [
    "### Answer\n",
    "The aircraft model 152 has the highest accident count, with just over 2000 accidents. This is significantly higher than any other model listed on the graph. Followed by model 172 with accidents over 1500 recorded. This shows that models with high accident records  like 152, 172 and 172N are likely to be in an accidet compared to other models."
   ]
  },
  {
   "cell_type": "markdown",
   "metadata": {},
   "source": [
    "## Question 5: Is there a correlation between the number of engines and number of accidents?"
   ]
  },
  {
   "cell_type": "code",
   "execution_count": 53,
   "metadata": {},
   "outputs": [
    {
     "name": "stdout",
     "output_type": "stream",
     "text": [
      "Correlation between Number of Engines and Number of Accidents: -0.429253383633823\n"
     ]
    },
    {
     "data": {
      "image/png": "[encoded data removed]",
      "text/plain": [
       "<Figure size 720x360 with 1 Axes>"
      ]
     },
     "metadata": {
      "needs_background": "light"
     },
     "output_type": "display_data"
    }
   ],
   "source": [
    "# Group by number of engines and count accidents\n",
    "accidents_by_engines = df.groupby('Number.of.Engines').size().reset_index(name='Number.of.Accidents')\n",
    "\n",
    "# Calculate correlation\n",
    "correlation = accidents_by_engines['Number.of.Engines'].corr(accidents_by_engines['Number.of.Accidents'])\n",
    "print(f'Correlation between Number of Engines and Number of Accidents: {correlation}')\n",
    "\n",
    "# Scatter plot with regression line\n",
    "plt.figure(figsize=(10, 5))\n",
    "sns.regplot(x=accidents_by_engines['Number.of.Engines'], \n",
    "            y=accidents_by_engines['Number.of.Accidents'], \n",
    "            scatter_kws={'color': 'blue'}, \n",
    "            line_kws={'color': 'red'})\n",
    "\n",
    "# Labels and title\n",
    "plt.title('Correlation Between Number of Engines and Number of Accidents')\n",
    "plt.xlabel('Number of Engines')\n",
    "plt.ylabel('Number of Accidents')\n",
    "\n",
    "plt.show()"
   ]
  },
  {
   "cell_type": "markdown",
   "metadata": {},
   "source": [
    "### Answer\n",
    "- Scatter plot above shows relationship between the number of engines and the number of recorded accidents.\n",
    "- We can also observe that Correlation between Number of accidents and Number of engines is a weak negative correlation of -0.42925333836."
   ]
  },
  {
   "cell_type": "markdown",
   "metadata": {},
   "source": [
    "## Question 6: Is there a relationship between the purpose of the flight and the number of accidents?"
   ]
  },
  {
   "cell_type": "code",
   "execution_count": 54,
   "metadata": {},
   "outputs": [
    {
     "data": {
      "image/png": "[encoded data removed]",
      "text/plain": [
       "<Figure size 864x432 with 1 Axes>"
      ]
     },
     "metadata": {
      "needs_background": "light"
     },
     "output_type": "display_data"
    }
   ],
   "source": [
    "# Plotting accident counts by flight purpose\n",
    "plt.figure(figsize=(12, 6))\n",
    "sns.countplot(y=df['Purpose.of.flight'], order=df['Purpose.of.flight'].value_counts().index, palette=\"viridis\")\n",
    "plt.xlabel(\"Number of Accidents\")\n",
    "plt.ylabel(\"Purpose of Flight\")\n",
    "plt.title(\"Accident Frequency by Purpose of Flight\")\n",
    "plt.show()"
   ]
  },
  {
   "cell_type": "markdown",
   "metadata": {},
   "source": [
    "### Answer\n",
    "- From the above visualization we can observe that personal flights have the highest record of number of accidents of over 4000.\n",
    "- For the other purposes of flight each has a records of less than 2000 with flight test with the least."
   ]
  },
  {
   "cell_type": "markdown",
   "metadata": {},
   "source": [
    "## Question 7: Which countries or locations experience the highest number of aviation accidents?"
   ]
  },
  {
   "cell_type": "code",
   "execution_count": 55,
   "metadata": {},
   "outputs": [
    {
     "data": {
      "image/png": "[encoded data removed]",
      "text/plain": [
       "<Figure size 720x432 with 1 Axes>"
      ]
     },
     "metadata": {
      "needs_background": "light"
     },
     "output_type": "display_data"
    }
   ],
   "source": [
    "country_accidents = df['Country'].value_counts().head(10)\n",
    "country_accidents.plot(kind='bar', figsize=(10, 6))\n",
    "plt.title('Top 10 Countries with the Most Aviation Accidents')\n",
    "plt.xlabel('Country')\n",
    "plt.ylabel('Number of Accidents')\n",
    "plt.show()"
   ]
  },
  {
   "cell_type": "markdown",
   "metadata": {},
   "source": [
    "### Answer\n",
    "As seen from the visualization above, the United states is the most dominant country in our dataset with over 90% of data."
   ]
  },
  {
   "cell_type": "markdown",
   "metadata": {},
   "source": [
    "### Csv data download for visualization in Tableau"
   ]
  },
  {
   "cell_type": "code",
   "execution_count": 56,
   "metadata": {},
   "outputs": [],
   "source": [
    "# saving csv for the cleaned df file\n",
    "df.to_csv('cleanedAviationData.csv', index=False)\n",
    "\n",
    "# Group by 'Purpose.of.flight' and count the accidents to acquire data for only the purpose of flight and Number of accidents\n",
    "accidents_by_purpose = df.groupby('Purpose.of.flight').size().reset_index(name='Number of Accidents')\n",
    "\n",
    "accidents_by_purpose.to_csv('accidents_by_purpose.csv', index=False) # saving csv\n",
    "\n",
    "# Trends of aviation accidents over time csv download\n",
    "accidents_per_year = df.groupby('Year').size().reset_index(name='Number of Accidents')\n",
    "accidents_per_year.to_csv('accidents_per_year.csv', index = False)\n",
    "\n",
    "# Count occurrences of each weather condition\n",
    "weather_counts = df['Weather.Condition'].value_counts().reset_index()\n",
    "weather_counts.columns = ['Weather Condition', 'Count']\n",
    "\n",
    "# Save to CSV\n",
    "weather_counts.to_csv('weather_accident_counts.csv', index=False)"
   ]
  },
  {
   "cell_type": "markdown",
   "metadata": {},
   "source": [
    "## Findings:\n",
    "\n",
    "In this project we analyzed aviation safety using NTSB data and the following were the findings drawn from the analysis:\n",
    "\n",
    "1. There has been an overall drop of aviation accidents from the year 1982 to the year indicating that aviation is getting safer.\n",
    "\n",
    "2. Over the years we have high records of fatal accidents followed by the minor injuries and finally serious injuries until the year 2008 where serious injuries are higher than minor injuries untill the year 2023. This could be due to the designs of planes used from the year 2008.\n",
    "\n",
    "3. Most accidents occur under Visual Meteorological Conditions (VMC). This could be due to the higher frequency of flights in VMC compared to other weather conditions.\n",
    "\n",
    "4. The aircraft model `152` has the highest accident count, making it the model most frequently involved in accidents among those listed. This could be due to their design hence prone to errors.\n",
    "\n",
    "5. Aircraft with fewer engines tend to have higher injury counts, while those with more engines tend to have lower injury counts.\n",
    "\n",
    "6. Most of the personal purpose flights have the highest recors of accidents and this could be due to poor maintainance of the planes for personal use. \n",
    "\n",
    "7. Most accidents occur in United states. This could be due to the high traffic and weather conditions."
   ]
  },
  {
   "cell_type": "markdown",
   "metadata": {},
   "source": [
    "## Reccomendations:\n",
    "Based on the findings above, i would reccomend:\n",
    "1. Prioritize Aircraft Maintenance and Inspection. Since personal-purpose flights have the highest accident records, likely due to poor maintenance, invest in strict and frequent maintenance schedules.\n",
    "2. Choose Aircraft Models with Strong Safety Records. The Cessna 152 has the highest accident count, possibly due to design flaws.\n",
    "Conduct a thorough risk assessment of aircraft models before purchasing or leasing.\n",
    "Opt for models with better safety features and lower accident rates.\n",
    "3. Train Pilots and Crew on Safety Best Practices. Even though most accidents happen in Visual Meteorological Conditions (VMC), pilot error is still a significant factor and Simulate adverse weather conditions training even for VMC scenarios to improve situational awareness.\n",
    "4. Focus on Route and Air Traffic Analysis. Since most accidents occur in the United States, analyze high-risk areas and plan routes strategically to avoid congested airspaces.\n",
    "Utilize advanced GIS and geospatial analytics to map accident-prone zones and create safer flight paths.\n",
    "5. Invest in Multi-Engine Aircraft for Enhanced Safety. Analysis shows that aircraft with fewer engines tend to have higher injury counts. If possible, invest in multi-engine aircraft, especially for longer and high-risk routes, to increase redundancy and minimize risks in case of engine failure.\n",
    "6. Improve Data-Driven Safety Measures. Use historical accident data to predict high-risk factors and integrate AI-powered risk assessment tools.\n",
    "7. Consider Insurance and Safety Protocols\n",
    "Given the accident trends, ensure comprehensive insurance coverage for aircraft, passengers, and crew."
   ]
  },
  {
   "cell_type": "markdown",
   "metadata": {},
   "source": [
    "## Conclusion:\n",
    "Our analysis of aviation accident data highlights key risk factors that must be addressed before starting the aviation business. While aviation safety has improved over the years, factors such as aircraft model choice, purpose of the aircraft maintenance practices, pilot training, and flight conditions play a critical role in accident prevention. By implementing data-driven safety measures, investing in well-maintained multi-engine aircraft, and adhering to strict operational standards, we can mitigate risks and enhance flight safety. These insights will guide strategic decisions to ensure a safe and sustainable aviation operatio"
   ]
  },
  {
   "cell_type": "code",
   "execution_count": null,
   "metadata": {},
   "outputs": [],
   "source": []
  },
  {
   "cell_type": "code",
   "execution_count": null,
   "metadata": {},
   "outputs": [],
   "source": []
  },
  {
   "cell_type": "code",
   "execution_count": null,
   "metadata": {},
   "outputs": [],
   "source": []
  }
 ],
 "metadata": {
  "kernelspec": {
   "display_name": "Python 3",
   "language": "python",
   "name": "python3"
  },
  "language_info": {
   "codemirror_mode": {
    "name": "ipython",
    "version": 3
   },
   "file_extension": ".py",
   "mimetype": "text/x-python",
   "name": "python",
   "nbconvert_exporter": "python",
   "pygments_lexer": "ipython3",
   "version": "3.8.5"
  }
 },
 "nbformat": 4,
 "nbformat_minor": 4
}
